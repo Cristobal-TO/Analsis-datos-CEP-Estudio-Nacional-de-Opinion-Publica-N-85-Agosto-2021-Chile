{
 "cells": [
  {
   "cell_type": "code",
   "execution_count": 1,
   "id": "ffa0d085",
   "metadata": {},
   "outputs": [
    {
     "name": "stderr",
     "output_type": "stream",
     "text": [
      "-- \u001b[1mAttaching packages\u001b[22m ------------------------------------------------------------------------------- tidyverse 1.3.1 --\n",
      "\n",
      "\u001b[32mv\u001b[39m \u001b[34mggplot2\u001b[39m 3.3.5     \u001b[32mv\u001b[39m \u001b[34mpurrr  \u001b[39m 0.3.4\n",
      "\u001b[32mv\u001b[39m \u001b[34mtibble \u001b[39m 3.1.6     \u001b[32mv\u001b[39m \u001b[34mdplyr  \u001b[39m 1.0.7\n",
      "\u001b[32mv\u001b[39m \u001b[34mtidyr  \u001b[39m 1.1.4     \u001b[32mv\u001b[39m \u001b[34mstringr\u001b[39m 1.4.0\n",
      "\u001b[32mv\u001b[39m \u001b[34mreadr  \u001b[39m 2.1.1     \u001b[32mv\u001b[39m \u001b[34mforcats\u001b[39m 0.5.1\n",
      "\n",
      "-- \u001b[1mConflicts\u001b[22m ---------------------------------------------------------------------------------- tidyverse_conflicts() --\n",
      "\u001b[31mx\u001b[39m \u001b[34mdplyr\u001b[39m::\u001b[32mfilter()\u001b[39m masks \u001b[34mstats\u001b[39m::filter()\n",
      "\u001b[31mx\u001b[39m \u001b[34mdplyr\u001b[39m::\u001b[32mlag()\u001b[39m    masks \u001b[34mstats\u001b[39m::lag()\n",
      "\n"
     ]
    }
   ],
   "source": [
    "library(tidyverse)\n",
    "library(paqueteadp)\n",
    "library(haven)\n",
    "library(ggrepel)"
   ]
  },
  {
   "cell_type": "code",
   "execution_count": 2,
   "id": "47fbf64f",
   "metadata": {},
   "outputs": [],
   "source": [
    "datos_CEP <- read_spss(\"datos/base_85.sav\")"
   ]
  },
  {
   "cell_type": "markdown",
   "id": "2dc2ce74",
   "metadata": {},
   "source": [
    "Primero, la percepción de las personas es de relevancia en un país es un aspecto relevante a tomar en cuenta. Muchas veces la interpretación individual no se considice con la realidad, como lo puede ser en casos del aumento de disminición de la delicuenta, sin embargo, esto no significa que no deba ser un punto de atención en las políticas públicas.\n",
    "\n",
    "La pregunta etiquetada como bienestar_2, dice lo siguiente: Considerando todas las cosas, ¿cuán satisfecho está usted con su vida en este momento? Por favor use esta tarjeta en que 1 significa que usted está “totalmente insatisfecho” y 10 significa que usted está “totalmente satisfecho”. ¿Dónde se ubicaría usted?\n",
    "\n",
    "Elaborando un gráfico de barras con los datos presentados, se tiene que:\n"
   ]
  },
  {
   "cell_type": "code",
   "execution_count": 3,
   "id": "f26e54ee",
   "metadata": {},
   "outputs": [
    {
     "data": {
      "image/png": "[encoded data removed]",
      "text/plain": [
       "plot without title"
      ]
     },
     "metadata": {
      "image/png": {
       "height": 420,
       "width": 420
      }
     },
     "output_type": "display_data"
    }
   ],
   "source": [
    "bienestar_2 <- datos_CEP %>% mutate(satisfaccion_vida = case_when(\n",
    "                   bienestar_2 == 1 ~ \"1\",\n",
    "                   bienestar_2 == 2 ~ \"2\",\n",
    "                   bienestar_2 == 3 ~ \"3\",\n",
    "                   bienestar_2 == 4 ~ \"4\",\n",
    "                   bienestar_2 == 5 ~ \"5\",\n",
    "                   bienestar_2 == 6 ~ \"6\",\n",
    "                   bienestar_2 == 7 ~ \"7\",\n",
    "                   bienestar_2 == 8 ~ \"8\", \n",
    "                   bienestar_2 == 9 ~ \"9\",\n",
    "                   bienestar_2 == 10~ \"10\",  \n",
    "                   TRUE ~ \"Otro\" )) \n",
    "\n",
    "bienestar_2 %>% ggplot(mapping = aes(x = satisfaccion_vida))+\n",
    "                  geom_bar()+\n",
    "                  labs(title = \"Satisfacción con la vida Chile, escala 1-0. Agosto-2021\",\n",
    "                       x = \"Satisfacción con la vida\",\n",
    "                       y = \"Frecuencia\",\n",
    "                  caption = \"Fuente: Creación Propia a partir de los datos del CEP\")"
   ]
  },
  {
   "cell_type": "markdown",
   "id": "2077e81f",
   "metadata": {},
   "source": [
    "La mayoría de la gente se encuentra totalmente satisfecha con su vida. Sumado a esto, elaborando un gráfico que contega dos niveles, siendo estos los datos contenidos entre 1-5 y 6-10, se observa que con una notable diferencia, las personas en Chile, a la fecha de realizado el estudio, se encuentran más satisfechos que insatisfechos. "
   ]
  },
  {
   "cell_type": "code",
   "execution_count": 18,
   "id": "20f770be",
   "metadata": {},
   "outputs": [
    {
     "ename": "ERROR",
     "evalue": "Error in mutate(., satisfaccion_vida_bin = case_when(bienestar_2 %in% : objeto 'bienestar_CEP' no encontrado\n",
     "output_type": "error",
     "traceback": [
      "Error in mutate(., satisfaccion_vida_bin = case_when(bienestar_2 %in% : objeto 'bienestar_CEP' no encontrado\nTraceback:\n",
      "1. bienestar_CEP %>% mutate(satisfaccion_vida_bin = case_when(bienestar_2 %in% \n .     c(1:5) ~ \"1-5\", bienestar_2 %in% c(6:10) ~ \"6-10\", TRUE ~ \n .     \"No sabe/No contesta\"))",
      "2. mutate(., satisfaccion_vida_bin = case_when(bienestar_2 %in% \n .     c(1:5) ~ \"1-5\", bienestar_2 %in% c(6:10) ~ \"6-10\", TRUE ~ \n .     \"No sabe/No contesta\"))"
     ]
    }
   ],
   "source": [
    "bienestar_2 <- bienestar_CEP %>% mutate(satisfaccion_vida_bin = case_when(\n",
    "                   bienestar_2 %in% c(1:5) ~ \"1-5\",\n",
    "                   bienestar_2 %in% c(6:10)~ \"6-10\",\n",
    "                   TRUE ~ \"No sabe/No contesta\")) \n",
    "\n",
    "bienestar_2_bin %>% ggplot(mapping = aes(x = satisfaccion_vida_bin))+\n",
    "                  geom_bar()+\n",
    "                  labs(title = \"Satisfacción con la vida Chile, escala 1-5;6-10. Agosto-2021\",\n",
    "                       x = \"Satisfacción con la vida\",\n",
    "                       y = \"Frecuencia\",\n",
    "                  caption = \"Fuente: Creación Propia a partir de los datos del CEP\")                  "
   ]
  },
  {
   "cell_type": "markdown",
   "id": "04c113fa",
   "metadata": {},
   "source": [
    "Los resultados resultan contrarios a los esperados, considerando el período de cambio político en el que se encuentra Chile, y la ocurrencia del Estallido Social, es de esperar que las personas sientan una insatisfacción no solamante con el sistema político, sino también con sus vidas. En vista de lo observado, se intuye que existen factores externos al estado nacional que le dan satifacción a la vida de las personas.  \n",
    "\n",
    "Finalmente, buscando indagar sobre si la satisfacción con la vida podría correlacionarse con la tendencia política de las personal. En primera instancia, no es posible identificar ninguna relación, de hecho, la mayoria de las personas señala que no sabe o no contesta. "
   ]
  },
  {
   "cell_type": "code",
   "execution_count": 16,
   "id": "4a3efade",
   "metadata": {},
   "outputs": [
    {
     "ename": "ERROR",
     "evalue": "Error in parse(text = x, srcfile = src): <text>:20:0: unexpected end of input\n18: \n19: #, fill = izquierda_derecha\n   ^\n",
     "output_type": "error",
     "traceback": [
      "Error in parse(text = x, srcfile = src): <text>:20:0: unexpected end of input\n18: \n19: #, fill = izquierda_derecha\n   ^\nTraceback:\n"
     ]
    }
   ],
   "source": [
    "bienestar_2 <- bienestar_2 %>% mutate(izquierda_derecha = case_when(\n",
    "                                iden_pol_2 == 1 ~ \"1\",\n",
    "                                iden_pol_2 == 2 ~ \"2\",\n",
    "                                iden_pol_2 == 3 ~ \"3\",\n",
    "                                iden_pol_2 == 4 ~ \"4\",\n",
    "                                iden_pol_2 == 5 ~ \"5\",\n",
    "                                iden_pol_2 == 6 ~ \"6\",\n",
    "                                iden_pol_2 == 7 ~ \"7\",\n",
    "                                iden_pol_2 == 8 ~ \"8\",\n",
    "                                iden_pol_2 == 9 ~ \"9\",\n",
    "                                iden_pol_2 == 10 ~ \"10\",\n",
    "                                TRUE ~ \"no sabe/contesta\"))\n",
    "\n",
    "bienestar_2_bin %>% ggplot(mapping = aes(x = satisfaccion_vida_bin ))+\n",
    "                    geom_bar()+\n",
    "            \n",
    "\n",
    "\n",
    "#, fill = izquierda_derecha"
   ]
  },
  {
   "cell_type": "markdown",
   "id": "bbf0ae66",
   "metadata": {},
   "source": [
    "Usando la base bienestar, contenida en el paqueteadp del libro AnálizaR Datos Políticos. Se compara la relación entre la población y el PIB de los paises cotenidos en la base de datos. Se observa que existe una tendencia, y es que a mayor población, menor PIB"
   ]
  },
  {
   "cell_type": "code",
   "execution_count": 17,
   "id": "997a677a",
   "metadata": {},
   "outputs": [
    {
     "name": "stderr",
     "output_type": "stream",
     "text": [
      "`geom_smooth()` using formula 'y ~ x'\n",
      "\n",
      "Warning message:\n",
      "\"Removed 194 rows containing non-finite values (stat_smooth).\"\n",
      "Warning message:\n",
      "\"Removed 194 rows containing missing values (geom_point).\"\n"
     ]
    },
    {
     "data": {
      "image/png": "[encoded data removed]",
      "text/plain": [
       "plot without title"
      ]
     },
     "metadata": {
      "image/png": {
       "height": 420,
       "width": 420
      }
     },
     "output_type": "display_data"
    }
   ],
   "source": [
    "bienestar %>% ggplot(mapping = aes(x= poblacion, y = log(pib)   ))+\n",
    "                geom_point()+\n",
    "                geom_smooth(method = \"lm\", se = F)+\n",
    "                labs(title = \"Relación poblacion/pib\",\n",
    "                        x = \"POBLACIÓN\",\n",
    "                        y = \"PIB\",\n",
    "                      caption = \"Creación propia a partir de los datos del paqueteadp\")"
   ]
  },
  {
   "cell_type": "code",
   "execution_count": null,
   "id": "788979fa",
   "metadata": {},
   "outputs": [],
   "source": []
  },
  {
   "cell_type": "code",
   "execution_count": null,
   "id": "3d4bb5d1",
   "metadata": {},
   "outputs": [],
   "source": []
  }
 ],
 "metadata": {
  "kernelspec": {
   "display_name": "R",
   "language": "R",
   "name": "ir"
  },
  "language_info": {
   "codemirror_mode": "r",
   "file_extension": ".r",
   "mimetype": "text/x-r-source",
   "name": "R",
   "pygments_lexer": "r",
   "version": "4.1.2"
  }
 },
 "nbformat": 4,
 "nbformat_minor": 5
}
